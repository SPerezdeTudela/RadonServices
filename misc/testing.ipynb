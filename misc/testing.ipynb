{
 "cells": [
  {
   "cell_type": "code",
   "execution_count": 1,
   "outputs": [
    {
     "name": "stderr",
     "output_type": "stream",
     "text": [
      "WARNING:  database \"radon_sql\" has a collation version mismatch\n",
      "DETAIL:  The database was created using collation version 2.31, but the operating system provides version 2.36.\n",
      "HINT:  Rebuild all objects in this database that use the default collation and run ALTER DATABASE radon_sql REFRESH COLLATION VERSION, or build PostgreSQL with the right library version.\n"
     ]
    }
   ],
   "source": [
    "import traceback\n",
    "from contextlib import contextmanager\n",
    "from typing import Generator\n",
    "from typing import Tuple\n",
    "\n",
    "import numpy as np\n",
    "import scipy\n",
    "from astropy.io import fits\n",
    "from psycopg2 import DatabaseError, sql\n",
    "from psycopg2 import extensions\n",
    "from psycopg2.extensions import cursor, register_adapter, AsIs\n",
    "from psycopg2.pool import ThreadedConnectionPool\n",
    "from scipy.optimize import curve_fit\n",
    "\n",
    "# Register numpy -> postgres value adapter\n",
    "register_adapter(np.float64, lambda float64: AsIs(float64))\n",
    "register_adapter(np.int64, lambda int64: AsIs(int64))\n",
    "\n",
    "# Create connection pool\n",
    "pool = ThreadedConnectionPool(\n",
    "    minconn=1,\n",
    "    maxconn=10,\n",
    "    host=\"localhost\",  # see compose file\n",
    "    user=\"radon\",\n",
    "    password=\"radon2023\",\n",
    "    port=\"5452\",\n",
    "    database=\"radon_sql\"\n",
    ")\n",
    "\n",
    "\n",
    "@contextmanager\n",
    "def postgres() -> Generator[cursor, None, None]:\n",
    "    connection = pool.getconn()\n",
    "    try:\n",
    "        cursor = connection.cursor()\n",
    "        try:\n",
    "            yield cursor\n",
    "        finally:\n",
    "            cursor.close()\n",
    "        connection.commit()\n",
    "    except DatabaseError as error:\n",
    "        print(\"Rolling back all transactions because of database error\")\n",
    "        print(f\"Error: {error}\")\n",
    "        print(f\"Traceback: {traceback.format_exc()}\")\n",
    "        connection.rollback()\n",
    "    finally:\n",
    "        pool.putconn(connection)"
   ],
   "metadata": {
    "collapsed": false,
    "ExecuteTime": {
     "end_time": "2023-10-01T22:35:22.077280200Z",
     "start_time": "2023-10-01T22:35:19.353999Z"
    }
   },
   "id": "d7e50eec01f7f39f"
  },
  {
   "cell_type": "code",
   "execution_count": 2,
   "outputs": [],
   "source": [
    "from typing import List\n",
    "\n",
    "\n",
    "class SineApproximation:\n",
    "    def __init__(self, level: int, a: float, b: float, c: float, d: float, rmse: float):\n",
    "        self.level = level\n",
    "        self.a = a\n",
    "        self.b = b\n",
    "        self.c = c\n",
    "        self.d = d\n",
    "        self.rmse = rmse\n",
    "\n",
    "    def __repr__(self):\n",
    "        return f\"SineApproximation(level={self.level}, a={self.a}, b={self.b}, c={self.c}, d={self.d}, rmse={self.rmse})\"\n",
    "\n",
    "\n",
    "class NormalDistribution:\n",
    "    def __init__(self, window: int, mean: float, std_dev: float):\n",
    "        self.window = window\n",
    "        self.mean = mean\n",
    "        self.std_dev = std_dev\n",
    "\n",
    "    def __repr__(self):\n",
    "        return f\"NormalDistribution(window={self.window}, mean={self.mean}, std_dev={self.std_dev})\"\n",
    "\n",
    "\n",
    "class RadonBandResult:\n",
    "    def __init__(self, band_name: str, degree: int, sine_approximations: List[SineApproximation], normal_distributions: List[NormalDistribution]):\n",
    "        self.band_name = band_name\n",
    "        self.degree = degree\n",
    "        self.sine_approximations = sine_approximations\n",
    "        self.normal_distributions = normal_distributions\n",
    "\n",
    "    def __repr__(self):\n",
    "        return f\"RadonBandResult(band_name={self.band_name}, degree={self.degree}, sine_approximations={self.sine_approximations}, normal_distributions={self.normal_distributions})\"\n",
    "\n",
    "\n",
    "class RadonGalaxyResult:\n",
    "    def __init__(self, source_id: str, bin_id: int, band_results: List[RadonBandResult]):\n",
    "        self.source_id = source_id\n",
    "        self.bin_id = bin_id\n",
    "        self.band_results = band_results\n",
    "\n",
    "    def __repr__(self):\n",
    "        return f\"RadonGalaxyResult(source_id={self.source_id}, bin_id={self.bin_id}, band_results={self.band_results})\"\n"
   ],
   "metadata": {
    "collapsed": false,
    "ExecuteTime": {
     "end_time": "2023-10-01T22:35:22.078280900Z",
     "start_time": "2023-10-01T22:35:22.075280300Z"
    }
   },
   "id": "1c004b1dbec1b2a9"
  },
  {
   "cell_type": "code",
   "execution_count": 44,
   "outputs": [],
   "source": [
    "# Radon variables\n",
    "THETAS = np.linspace(0, np.pi, 181)\n",
    "SIN_THETAS = np.sin(THETAS)\n",
    "COS_THETAS = np.cos(THETAS)\n",
    "IGNORE_THRESHOLD = 0.00001\n",
    "\n",
    "# Define the circle mask\n",
    "SHAPE = (40, 40)\n",
    "CENTER = [dim // 2 for dim in SHAPE]\n",
    "RADIUS = SHAPE[0] // 2\n",
    "Y_COORDS, X_COORDS = np.ogrid[-CENTER[0]:SHAPE[0] - CENTER[0], -CENTER[1]:SHAPE[1] - CENTER[1]]\n",
    "MASK = X_COORDS * X_COORDS + Y_COORDS * Y_COORDS <= RADIUS * RADIUS\n",
    "\n",
    "# Normal distribution fitting variables\n",
    "DISTRIBUTION_WINDOWS = [15, 30, 60, 90]\n",
    "\n",
    "\n",
    "def radon_transform(image: np.ndarray) -> np.ndarray:\n",
    "    \"\"\" Assuming image is already circle-masked \"\"\"\n",
    "    sinogram = np.zeros((40, len(THETAS)))\n",
    "    for i, (sin_theta, cos_theta) in enumerate(zip(SIN_THETAS, COS_THETAS)):\n",
    "        matrix = np.array([\n",
    "            [cos_theta, sin_theta, -20 * (cos_theta + sin_theta - 1)],\n",
    "            [-sin_theta, cos_theta, -20 * (cos_theta - sin_theta - 1)],\n",
    "            [0, 0, 1]\n",
    "        ])\n",
    "        y_coords, x_coords = np.indices((40, 40))\n",
    "        homogeneous_coords = np.stack((x_coords, y_coords, np.ones_like(x_coords)), axis=-1)\n",
    "        homogeneous_coords_2d = homogeneous_coords.reshape((-1, 3))\n",
    "        transformed_coords = np.dot(homogeneous_coords_2d, matrix.T)\n",
    "        transformed_coords_2d = transformed_coords[:, :2] / transformed_coords[:, 2, np.newaxis]\n",
    "        transformed_coords_3d = transformed_coords_2d.reshape((40, 40, 2))\n",
    "        interpolated_image = scipy.ndimage.map_coordinates(image, transformed_coords_3d.transpose((2, 0, 1)))\n",
    "        sums = np.sum(interpolated_image, axis=0)\n",
    "        sinogram[:, i] = sums\n",
    "    return sinogram\n",
    "\n",
    "\n",
    "def filter_mean(x, threshold):\n",
    "    index = int((1 - threshold) * x.shape[0])\n",
    "    return np.mean(np.sort(x, axis=0)[index:], axis=0)\n",
    "\n",
    "\n",
    "def filter_sinogram(sinogram):\n",
    "    \"\"\" Returns a dictionary of filtered sinograms, with the key being the filter level \"\"\"\n",
    "    return {\n",
    "        0: np.max(sinogram, axis=0),\n",
    "        0.05: filter_mean(sinogram, 0.05),\n",
    "        0.1: filter_mean(sinogram, 0.1),\n",
    "        0.2: filter_mean(sinogram, 0.2),\n",
    "        0.3: filter_mean(sinogram, 0.3)\n",
    "    }\n",
    "\n",
    "\n",
    "def expand_data(sinogram_1d: np.ndarray) -> Tuple[np.ndarray, np.ndarray]:\n",
    "    \"\"\" Expands 1D sinogram data from [0, 180] to [-180, 180 * 2] degrees (wraps) \"\"\"\n",
    "    extended_data = np.concatenate((sinogram_1d[:-1], sinogram_1d, sinogram_1d[1:]))\n",
    "    n = len(sinogram_1d)\n",
    "    return np.arange(-(n - 1), (n - 1) * 2 + 1), extended_data\n",
    "\n",
    "\n",
    "def sine_function(x, a, b, c, d):\n",
    "    return a * np.sin(b * x + c) + d\n",
    "\n",
    "\n",
    "def fit_sine(xs, ys):\n",
    "    ff = np.fft.fftfreq(len(xs), (xs[1] - xs[0]))  # assume uniform spacing\n",
    "    Fyy = abs(np.fft.fft(ys))\n",
    "    guess_freq = abs(ff[np.argmax(Fyy[1:]) + 1])  # excluding the zero frequency \"peak\", which is related to offset\n",
    "    guess_amp = np.std(ys) * 2.0 ** 0.5\n",
    "    guess_offset = np.mean(ys)\n",
    "    guess = np.array([guess_amp, 2.0 * np.pi * guess_freq, 0.0, guess_offset])\n",
    "    return curve_fit(sine_function, xs, ys, p0=guess)"
   ],
   "metadata": {
    "collapsed": false,
    "ExecuteTime": {
     "end_time": "2023-10-02T02:24:00.750976800Z",
     "start_time": "2023-10-02T02:24:00.723965400Z"
    }
   },
   "id": "5d1268cfd5b04e05"
  },
  {
   "cell_type": "code",
   "execution_count": 50,
   "outputs": [],
   "source": [
    "def process(metadata_entry) -> RadonGalaxyResult:\n",
    "    source_id, bin_id = metadata_entry\n",
    "    print(f\"Processing galaxy b{bin_id}/{source_id}...\")\n",
    "\n",
    "    # Fetch FITS file from disk\n",
    "    fits_path = f\"/home/neo/data/fits/b{bin_id}/{source_id}.fits\"\n",
    "    with fits.open(fits_path) as hdu_list:\n",
    "        data = hdu_list[0].data\n",
    "        hdu_list.close()\n",
    "\n",
    "    # Apply radon transform to get max rotations for each band\n",
    "    band_results: List[RadonBandResult] = []\n",
    "    for i, band in enumerate(\"griz\"):\n",
    "        print(f\"Processing band {band}...\")\n",
    "\n",
    "        # Check if there is any data (threshold) in this channel\n",
    "        # - or if there are any NadNs, we want to ignore NaNs because it can propagate to the sinogram\n",
    "        if not data[i].any():\n",
    "            print(\"WARNING: No band data exists, skipping\")\n",
    "            continue\n",
    "        elif np.any(np.isnan(data[i])):\n",
    "            print(\"WARNING: Band data contains NaNs, skipping\")\n",
    "            continue\n",
    "\n",
    "        # Perform radon transform\n",
    "        sinogram = radon_transform(data[i] * MASK)\n",
    "        if not sinogram.any():\n",
    "            print(\"WARNING: No sinogram data exists, skipping\")\n",
    "            continue\n",
    "        elif np.any(np.isnan(sinogram)):\n",
    "            print(\"WARNING: Sinogram data contains NaNs, skipping\")\n",
    "            continue\n",
    "\n",
    "        # Compute rotations & errors\n",
    "        offset, rotation = np.unravel_index(sinogram.argmax(), sinogram.shape)\n",
    "\n",
    "        # Apply filters to sinogram\n",
    "        filtered_sinogram_map = filter_sinogram(sinogram)\n",
    "\n",
    "        # Calculate sine approximation at each filter level\n",
    "        xs = range(sinogram.shape[1])\n",
    "        sine_approximations: List[SineApproximation] = []\n",
    "        for level, sinogram_1d in filtered_sinogram_map.items():\n",
    "            try:\n",
    "                expanded_xs, expanded_ys = expand_data(sinogram_1d)\n",
    "                popt, _ = fit_sine(expanded_xs, expanded_ys)\n",
    "                sin_ys = sine_function(xs, *popt)\n",
    "                rmse = np.sqrt(np.mean((sinogram_1d - sin_ys) ** 2))\n",
    "                sine_approximations.append(SineApproximation(level, *popt, rmse))\n",
    "            except:\n",
    "                print(f\"WARNING: Failed to fit sine approximation for level {level}, skipping\")\n",
    "\n",
    "        # Fit a normal distribution to each window\n",
    "        normal_distributions: List[NormalDistribution] = []\n",
    "        expanded_xs, expanded_ys = expand_data(filtered_sinogram_map[0])  # 0 = max filter\n",
    "        for window in DISTRIBUTION_WINDOWS:\n",
    "            # Mask the data to only include the window\n",
    "            peak_mask = (expanded_xs >= rotation - window) & (expanded_xs <= rotation + window)\n",
    "            xs_near_peak, ys_near_peak = expanded_xs[peak_mask], expanded_ys[peak_mask]\n",
    "\n",
    "            # Normalize the intensity\n",
    "            ys_near_peak_normalized = ys_near_peak / np.sum(ys_near_peak)\n",
    "\n",
    "            # Calculated weighted mean and standard deviation\n",
    "            mean = np.average(xs_near_peak, weights=ys_near_peak_normalized)\n",
    "            std = np.sqrt(np.average((xs_near_peak - mean) ** 2, weights=ys_near_peak_normalized))\n",
    "\n",
    "            # Check NaNs\n",
    "            if np.isnan(mean) or np.isnan(std):\n",
    "                print(f\"WARNING: Normal distribution mean or std is NaN, skipping window {window}\")\n",
    "            else:\n",
    "                # Append to list\n",
    "                normal_distributions.append(NormalDistribution(window, mean, std))\n",
    "\n",
    "        band_results.append(RadonBandResult(band, rotation, sine_approximations, normal_distributions))\n",
    "\n",
    "    return RadonGalaxyResult(source_id, bin_id, band_results)\n"
   ],
   "metadata": {
    "collapsed": false,
    "ExecuteTime": {
     "end_time": "2023-10-02T02:24:47.301476800Z",
     "start_time": "2023-10-02T02:24:47.299499800Z"
    }
   },
   "id": "f5613c63ced930a4"
  },
  {
   "cell_type": "code",
   "execution_count": 51,
   "outputs": [
    {
     "name": "stdout",
     "output_type": "stream",
     "text": [
      "Processing galaxy b2214/2268328776282890496...\n",
      "Processing band g...\n",
      "Processing band r...\n",
      "Processing band i...\n",
      "WARNING: No band data exists, skipping\n",
      "Processing band z...\n"
     ]
    }
   ],
   "source": [
    "x = process((2268328776282890496, 2214))"
   ],
   "metadata": {
    "collapsed": false,
    "ExecuteTime": {
     "end_time": "2023-10-02T02:24:48.602275500Z",
     "start_time": "2023-10-02T02:24:48.203167900Z"
    }
   },
   "id": "e5f4bdc9257852b"
  },
  {
   "cell_type": "code",
   "execution_count": 43,
   "outputs": [
    {
     "data": {
      "text/plain": "RadonGalaxyResult(source_id=2268328776282890496, bin_id=2214, band_results=[RadonBandResult(band_name=g, degree=52, sine_approximations=[SineApproximation(level=0, a=0.017276303819657945, b=0.07048883728001312, c=-1.582068057268492, d=0.37810722549743264, rmse=0.019302179092066395), SineApproximation(level=0.05, a=0.01534398000295663, b=0.0705834940854214, c=-1.6308896943753057, d=0.371066351139268, rmse=0.01712145676945295), SineApproximation(level=0.1, a=0.013084716315371775, b=0.034351900317254255, c=-0.6101084221578754, d=0.34671930373454735, rmse=0.012744036397377362), SineApproximation(level=0.2, a=0.0110226392162924, b=0.03519138717009286, c=-0.9190209019376827, d=0.2882810685913787, rmse=0.008181744542696505), SineApproximation(level=0.3, a=0.008520532284098058, b=0.035361866485611466, c=-0.9950304228230398, d=0.23445723280892353, rmse=0.004112752780471211)], normal_distributions=[NormalDistribution(window=15, mean=51.58144951725376, std_dev=8.779594083478013), NormalDistribution(window=30, mean=51.75359750203329, std_dev=17.38553536897171), NormalDistribution(window=60, mean=52.12590117121989, std_dev=34.30057015497654), NormalDistribution(window=90, mean=52.926955447486264, std_dev=51.85268574916266)]), RadonBandResult(band_name=r, degree=49, sine_approximations=[SineApproximation(level=0, a=0.10872335987926833, b=0.03517697898434512, c=-0.5810153713910681, d=1.4498897128211823, rmse=0.030678863136055702), SineApproximation(level=0.05, a=0.09734575840149265, b=0.03515154764240072, c=-0.6569730480158127, d=1.4285940982108083, rmse=0.026411508418741462), SineApproximation(level=0.1, a=0.08271941825179177, b=0.0349795125744529, c=-0.7457060899089615, d=1.3640338692224458, rmse=0.01558251576760518), SineApproximation(level=0.2, a=0.06155781310276263, b=0.03495503996370818, c=-0.7875287654002716, d=1.1843479761759157, rmse=0.004655077022854686), SineApproximation(level=0.3, a=0.040140164941982484, b=0.03493888411863704, c=-0.8945326968578825, d=0.9922397292021934, rmse=0.0039451911925955496)], normal_distributions=[NormalDistribution(window=15, mean=49.15661266729923, std_dev=8.935329239898545), NormalDistribution(window=30, mean=49.396002215068236, std_dev=17.459797685348377), NormalDistribution(window=60, mean=49.79139466010168, std_dev=34.390429197306815), NormalDistribution(window=90, mean=49.92996662299727, std_dev=51.1902085963528)]), RadonBandResult(band_name=z, degree=55, sine_approximations=[SineApproximation(level=0, a=0.32772765650984287, b=0.03481151425946189, c=-0.30803592318214934, d=4.38360990925417, rmse=0.12025187447928488), SineApproximation(level=0.05, a=0.2720283204882786, b=0.034723479619682585, c=-0.3834487850625767, d=4.295835409365431, rmse=0.08797012606717362), SineApproximation(level=0.1, a=0.2098953098519111, b=0.03466466587595657, c=-0.35491544751750703, d=3.9503958219592867, rmse=0.05714740333572808), SineApproximation(level=0.2, a=0.08846079160324827, b=0.034324209230672205, c=-0.5037524469884221, d=3.0914202182737, rmse=0.039758048149519845), SineApproximation(level=0.3, a=0.0486165150354729, b=0.0345279516178978, c=-1.0505483729220442, d=2.4135359949758683, rmse=0.024779444887927344)], normal_distributions=[NormalDistribution(window=15, mean=54.85514368710616, std_dev=8.884569489371142), NormalDistribution(window=30, mean=54.752984885400124, std_dev=17.343109725693505), NormalDistribution(window=60, mean=54.96771598277361, std_dev=34.44629520834899), NormalDistribution(window=90, mean=54.967397856907176, std_dev=51.004042419639575)])])"
     },
     "execution_count": 43,
     "metadata": {},
     "output_type": "execute_result"
    }
   ],
   "source": [
    "x"
   ],
   "metadata": {
    "collapsed": false,
    "ExecuteTime": {
     "end_time": "2023-10-02T02:20:50.672438600Z",
     "start_time": "2023-10-02T02:20:50.669438100Z"
    }
   },
   "id": "4be2fedb9cf72e45"
  },
  {
   "cell_type": "code",
   "execution_count": 41,
   "outputs": [
    {
     "name": "stdout",
     "output_type": "stream",
     "text": [
      "[]\n"
     ]
    }
   ],
   "source": [
    "with postgres() as cursor:\n",
    "    # insert_result(cursor, x)\n",
    "    cursor.execute(\"\"\"\n",
    "    SELECT * FROM sine_approximations;\n",
    "    \"\"\")\n",
    "    results = cursor.fetchall()\n",
    "    print(results)"
   ],
   "metadata": {
    "collapsed": false,
    "ExecuteTime": {
     "end_time": "2023-10-02T01:52:58.078004500Z",
     "start_time": "2023-10-02T01:52:58.072244200Z"
    }
   },
   "id": "39229b2b391ed30b"
  },
  {
   "cell_type": "code",
   "execution_count": 16,
   "outputs": [
    {
     "data": {
      "text/plain": "[SineApproximation(level=0, a=0.0, b=0.011614020900516796, c=0.0, d=0.0, rmse=0.0),\n SineApproximation(level=0.05, a=0.0, b=0.011614020900516796, c=0.0, d=0.0, rmse=0.0),\n SineApproximation(level=0.1, a=0.0, b=0.011614020900516796, c=0.0, d=0.0, rmse=0.0),\n SineApproximation(level=0.2, a=0.0, b=0.011614020900516796, c=0.0, d=0.0, rmse=0.0),\n SineApproximation(level=0.3, a=0.0, b=0.011614020900516796, c=0.0, d=0.0, rmse=0.0)]"
     },
     "execution_count": 16,
     "metadata": {},
     "output_type": "execute_result"
    }
   ],
   "source": [
    "x.band_results[0].sine_approximations"
   ],
   "metadata": {
    "collapsed": false,
    "ExecuteTime": {
     "end_time": "2023-10-01T22:39:21.037789300Z",
     "start_time": "2023-10-01T22:39:21.036788700Z"
    }
   },
   "id": "70c9a64bed1639d9"
  },
  {
   "cell_type": "code",
   "execution_count": 29,
   "outputs": [],
   "source": [
    "temp_data[0][1] = 3"
   ],
   "metadata": {
    "collapsed": false,
    "ExecuteTime": {
     "end_time": "2023-09-30T16:38:43.979880100Z",
     "start_time": "2023-09-30T16:38:43.979880100Z"
    }
   },
   "id": "e69dd296b3d98d64"
  },
  {
   "cell_type": "code",
   "execution_count": 42,
   "outputs": [
    {
     "data": {
      "text/plain": "False"
     },
     "execution_count": 42,
     "metadata": {},
     "output_type": "execute_result"
    }
   ],
   "source": [
    "# check if temp_data has nans\n",
    "np.all(temp_data - 0.000000000001 > 0)"
   ],
   "metadata": {
    "collapsed": false,
    "ExecuteTime": {
     "end_time": "2023-09-30T16:42:22.191729300Z",
     "start_time": "2023-09-30T16:42:22.178730800Z"
    }
   },
   "id": "14768b30d1c187b5"
  },
  {
   "cell_type": "code",
   "execution_count": 32,
   "outputs": [
    {
     "data": {
      "text/plain": "3.0"
     },
     "execution_count": 32,
     "metadata": {},
     "output_type": "execute_result"
    }
   ],
   "source": [
    "np.max(temp_data)"
   ],
   "metadata": {
    "collapsed": false,
    "ExecuteTime": {
     "end_time": "2023-09-30T16:38:49.906639900Z",
     "start_time": "2023-09-30T16:38:49.895641Z"
    }
   },
   "id": "7ff6345a9c439daa"
  },
  {
   "cell_type": "code",
   "execution_count": 9,
   "outputs": [
    {
     "data": {
      "text/plain": "0.007988871"
     },
     "execution_count": 9,
     "metadata": {},
     "output_type": "execute_result"
    }
   ],
   "source": [
    "temp_data.max()"
   ],
   "metadata": {
    "collapsed": false,
    "ExecuteTime": {
     "end_time": "2023-10-01T22:36:35.876119Z",
     "start_time": "2023-10-01T22:36:35.868118300Z"
    }
   },
   "id": "c0e9e503a0068f5a"
  },
  {
   "cell_type": "code",
   "execution_count": null,
   "outputs": [],
   "source": [],
   "metadata": {
    "collapsed": false
   },
   "id": "24880e04c2827806"
  },
  {
   "cell_type": "code",
   "execution_count": null,
   "outputs": [],
   "source": [],
   "metadata": {
    "collapsed": false
   },
   "id": "44b722fc8febb2ce"
  },
  {
   "cell_type": "code",
   "execution_count": null,
   "outputs": [],
   "source": [],
   "metadata": {
    "collapsed": false
   },
   "id": "25f8fe88de4864d7"
  },
  {
   "cell_type": "code",
   "execution_count": null,
   "outputs": [],
   "source": [],
   "metadata": {
    "collapsed": false
   },
   "id": "71858f9d95a565d1"
  },
  {
   "cell_type": "code",
   "execution_count": null,
   "outputs": [],
   "source": [],
   "metadata": {
    "collapsed": false
   },
   "id": "93dc7992b81c35b5"
  }
 ],
 "metadata": {
  "kernelspec": {
   "display_name": "Python 3",
   "language": "python",
   "name": "python3"
  },
  "language_info": {
   "codemirror_mode": {
    "name": "ipython",
    "version": 2
   },
   "file_extension": ".py",
   "mimetype": "text/x-python",
   "name": "python",
   "nbconvert_exporter": "python",
   "pygments_lexer": "ipython2",
   "version": "2.7.6"
  }
 },
 "nbformat": 4,
 "nbformat_minor": 5
}
